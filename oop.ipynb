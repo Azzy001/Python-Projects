{
 "cells": [
  {
   "cell_type": "code",
   "execution_count": 6,
   "id": "eb4f96cb-616a-4ca8-bdf1-d4198921c025",
   "metadata": {},
   "outputs": [],
   "source": [
    "import random\n",
    "from rich import print\n",
    "\n",
    "from rich.console import Console\n",
    "from rich.table import Table\n",
    "\n",
    "import json"
   ]
  },
  {
   "cell_type": "code",
   "execution_count": 7,
   "id": "30c4599e-93c7-46de-b7b9-be75ea74eb2f",
   "metadata": {},
   "outputs": [
    {
     "data": {
      "text/html": [
       "<pre style=\"white-space:pre;overflow-x:auto;line-height:normal;font-family:Menlo,'DejaVu Sans Mono',consolas,'Courier New',monospace\">\n",
       "</pre>\n"
      ],
      "text/plain": [
       "\n"
      ]
     },
     "metadata": {},
     "output_type": "display_data"
    }
   ],
   "source": [
    "\"\"\"\n",
    "JSON format\n",
    "print(\"vehicle 1\\n\", json.dumps(v1.__dict__, indent=2), \"\\n\")\n",
    "print(\"vehicle 2\\n\", json.dumps(v2.__dict__, indent=2), \"\\n\")\n",
    "\"\"\"\n",
    "print()"
   ]
  },
  {
   "cell_type": "code",
   "execution_count": 14,
   "id": "fb768c17",
   "metadata": {},
   "outputs": [
    {
     "data": {
      "text/html": [
       "<pre style=\"white-space:pre;overflow-x:auto;line-height:normal;font-family:Menlo,'DejaVu Sans Mono',consolas,'Courier New',monospace\">\n",
       "\n",
       "-----welcome to vehicle database--------------------\n",
       "\n",
       "</pre>\n"
      ],
      "text/plain": [
       "\n",
       "\n",
       "-----welcome to vehicle database--------------------\n",
       "\n"
      ]
     },
     "metadata": {},
     "output_type": "display_data"
    },
    {
     "name": "stdout",
     "output_type": "stream",
     "text": [
      "select an option:\n",
      "1. add vehicle\n",
      "2. exit database\n",
      "\n",
      "1\n"
     ]
    },
    {
     "data": {
      "text/html": [
       "<pre style=\"white-space:pre;overflow-x:auto;line-height:normal;font-family:Menlo,'DejaVu Sans Mono',consolas,'Courier New',monospace\">\n",
       "\n",
       "-----add vehicle to database\n",
       "\n",
       "</pre>\n"
      ],
      "text/plain": [
       "\n",
       "\n",
       "-----add vehicle to database\n",
       "\n"
      ]
     },
     "metadata": {},
     "output_type": "display_data"
    },
    {
     "name": "stdout",
     "output_type": "stream",
     "text": [
      "Enter brand name: bmw\n",
      "Enter model name: goooldd\n",
      "Enter year: 2019\n",
      "Enter color: red\n",
      "Enter price: 20322\n"
     ]
    },
    {
     "data": {
      "text/html": [
       "<pre style=\"white-space:pre;overflow-x:auto;line-height:normal;font-family:Menlo,'DejaVu Sans Mono',consolas,'Courier New',monospace\"></pre>\n"
      ],
      "text/plain": []
     },
     "metadata": {},
     "output_type": "display_data"
    },
    {
     "data": {
      "text/html": [
       "<pre style=\"white-space:pre;overflow-x:auto;line-height:normal;font-family:Menlo,'DejaVu Sans Mono',consolas,'Courier New',monospace\">┏━━━━━━━━━━━━┳━━━━━━━┳━━━━━━━━━┳━━━━━━┳━━━━━━━┳━━━━━━━┓\n",
       "┃<span style=\"color: #000080; text-decoration-color: #000080; font-weight: bold\"> vehicle id </span>┃<span style=\"color: #800080; text-decoration-color: #800080; font-weight: bold\"> brand </span>┃<span style=\"color: #800080; text-decoration-color: #800080; font-weight: bold\"> model   </span>┃<span style=\"color: #800080; text-decoration-color: #800080; font-weight: bold\"> year </span>┃<span style=\"color: #800080; text-decoration-color: #800080; font-weight: bold\"> color </span>┃<span style=\"color: #800080; text-decoration-color: #800080; font-weight: bold\"> cost  </span>┃\n",
       "┡━━━━━━━━━━━━╇━━━━━━━╇━━━━━━━━━╇━━━━━━╇━━━━━━━╇━━━━━━━┩\n",
       "│<span style=\"color: #800080; text-decoration-color: #800080\"> BMW512793  </span>│ BMW   │ GOOOLDD │ 2019 │ RED   │ 20322 │\n",
       "└────────────┴───────┴─────────┴──────┴───────┴───────┘\n",
       "</pre>\n"
      ],
      "text/plain": [
       "┏━━━━━━━━━━━━┳━━━━━━━┳━━━━━━━━━┳━━━━━━┳━━━━━━━┳━━━━━━━┓\n",
       "┃\u001b[1;34m \u001b[0m\u001b[1;34mvehicle id\u001b[0m\u001b[1;34m \u001b[0m┃\u001b[1;35m \u001b[0m\u001b[1;35mbrand\u001b[0m\u001b[1;35m \u001b[0m┃\u001b[1;35m \u001b[0m\u001b[1;35mmodel  \u001b[0m\u001b[1;35m \u001b[0m┃\u001b[1;35m \u001b[0m\u001b[1;35myear\u001b[0m\u001b[1;35m \u001b[0m┃\u001b[1;35m \u001b[0m\u001b[1;35mcolor\u001b[0m\u001b[1;35m \u001b[0m┃\u001b[1;35m \u001b[0m\u001b[1;35mcost \u001b[0m\u001b[1;35m \u001b[0m┃\n",
       "┡━━━━━━━━━━━━╇━━━━━━━╇━━━━━━━━━╇━━━━━━╇━━━━━━━╇━━━━━━━┩\n",
       "│\u001b[35m \u001b[0m\u001b[35mBMW512793 \u001b[0m\u001b[35m \u001b[0m│ BMW   │ GOOOLDD │ 2019 │ RED   │ 20322 │\n",
       "└────────────┴───────┴─────────┴──────┴───────┴───────┘\n"
      ]
     },
     "metadata": {},
     "output_type": "display_data"
    },
    {
     "name": "stdout",
     "output_type": "stream",
     "text": [
      "select an option:\n",
      "1. add vehicle\n",
      "2. exit database\n",
      "\n",
      "2\n"
     ]
    },
    {
     "data": {
      "text/html": [
       "<pre style=\"white-space:pre;overflow-x:auto;line-height:normal;font-family:Menlo,'DejaVu Sans Mono',consolas,'Courier New',monospace\">\n",
       "\n",
       "-----goodbye!\n",
       "\n",
       "</pre>\n"
      ],
      "text/plain": [
       "\n",
       "\n",
       "-----goodbye!\n",
       "\n"
      ]
     },
     "metadata": {},
     "output_type": "display_data"
    }
   ],
   "source": [
    "from rich.console import Console\n",
    "from rich.table import Table\n",
    "import random\n",
    "\n",
    "class Vehicle:\n",
    "    def __init__(self, brand, model, year, color, cost):\n",
    "        self.brand = brand\n",
    "        self.model = model\n",
    "        self.year = year\n",
    "        self.color = color\n",
    "        self.cost = cost\n",
    "        self.vcl_id = self.generate_vcl_id()\n",
    "\n",
    "    def generate_vcl_id(self):\n",
    "        vcl = self.brand + str(random.randint(000000, 999999))\n",
    "        return vcl.upper()\n",
    "\n",
    "    def generate_table_row(self):\n",
    "        return [\n",
    "            str(self.vcl_id),\n",
    "            str(self.brand),\n",
    "            str(self.model),\n",
    "            str(self.year),\n",
    "            str(self.color),\n",
    "            str(self.cost)\n",
    "        ]\n",
    "\n",
    "class VehicleDatabase:\n",
    "    def __init__(self):\n",
    "        self.vehicles = []\n",
    "        self.console = Console()\n",
    "        self.table = Table()\n",
    "        self.create_table()\n",
    "\n",
    "    def create_table(self):\n",
    "        self.table.add_column(\"vehicle id\", header_style=\"blue\", style=\"magenta\")\n",
    "        self.table.add_column(\"brand\", header_style=\"magenta\")\n",
    "        self.table.add_column(\"model\", header_style=\"magenta\")\n",
    "        self.table.add_column(\"year\", header_style=\"magenta\")\n",
    "        self.table.add_column(\"color\", header_style=\"magenta\")\n",
    "        self.table.add_column(\"cost\", header_style=\"magenta\")\n",
    "\n",
    "    def add_vehicle(self, vehicle):\n",
    "        self.vehicles.append(vehicle)\n",
    "        self.table.add_row(*vehicle.generate_table_row())\n",
    "        self.print_database()\n",
    "\n",
    "    def print_database(self):\n",
    "        self.console.clear()\n",
    "        self.console.print(self.table)\n",
    "\n",
    "def main_menu():\n",
    "    database = VehicleDatabase()\n",
    "\n",
    "    print(\"\\n\\n-----welcome to vehicle database--------------------\\n\")\n",
    "    while True:\n",
    "        try:\n",
    "            choice = int(input(\"select an option:\\n\"\n",
    "                               \"1. add vehicle\\n\"\n",
    "                               \"2. exit database\\n\\n\"))\n",
    "            if choice == 1:\n",
    "                add_vcl(database)\n",
    "\n",
    "            elif choice == 2:\n",
    "                print(\"\\n\\n-----goodbye!\\n\")\n",
    "                break\n",
    "\n",
    "        except ValueError:\n",
    "            print(\"invalid, try again!\")\n",
    "\n",
    "            \n",
    "def add_vcl(database):\n",
    "    print(\"\\n\\n-----add vehicle to database\\n\")\n",
    "    vcl_brand = input(\"Enter brand name: \")\n",
    "    vcl_model = input(\"Enter model name: \")\n",
    "    vcl_year = int(input(\"Enter year: \"))\n",
    "    vcl_color = input(\"Enter color: \")\n",
    "    vcl_cost = int(input(\"Enter price: \"))\n",
    "\n",
    "    vehicle = Vehicle(vcl_brand.replace(\" \", \"\").upper(),\n",
    "                      vcl_model.upper(),\n",
    "                      vcl_year,\n",
    "                      vcl_color.upper(),\n",
    "                      vcl_cost)\n",
    "    \n",
    "    database.add_vehicle(vehicle)\n",
    "\n",
    "main_menu()\n"
   ]
  },
  {
   "cell_type": "code",
   "execution_count": null,
   "id": "477fddb4",
   "metadata": {},
   "outputs": [],
   "source": []
  }
 ],
 "metadata": {
  "kernelspec": {
   "display_name": "Python 3 (ipykernel)",
   "language": "python",
   "name": "python3"
  },
  "language_info": {
   "codemirror_mode": {
    "name": "ipython",
    "version": 3
   },
   "file_extension": ".py",
   "mimetype": "text/x-python",
   "name": "python",
   "nbconvert_exporter": "python",
   "pygments_lexer": "ipython3",
   "version": "3.10.4"
  }
 },
 "nbformat": 4,
 "nbformat_minor": 5
}
