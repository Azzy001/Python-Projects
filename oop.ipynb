{
 "cells": [
  {
   "cell_type": "code",
   "execution_count": 25,
   "id": "eb4f96cb-616a-4ca8-bdf1-d4198921c025",
   "metadata": {},
   "outputs": [],
   "source": [
    "import random\n",
    "from rich import print\n",
    "\n",
    "from rich.console import Console\n",
    "from rich.table import Table\n",
    "\n",
    "import json"
   ]
  },
  {
   "cell_type": "code",
   "execution_count": 101,
   "id": "4c78efb9-c9f0-4428-ad6b-e8b2edee97f2",
   "metadata": {},
   "outputs": [
    {
     "data": {
      "text/html": [
       "<pre style=\"white-space:pre;overflow-x:auto;line-height:normal;font-family:Menlo,'DejaVu Sans Mono',consolas,'Courier New',monospace\">┏━━━━━━━━━━━━┳━━━━━━━┳━━━━━━━┳━━━━━━┳━━━━━━━━━━━┳━━━━━━━┓\n",
       "┃<span style=\"color: #008080; text-decoration-color: #008080; font-weight: bold\"> vehicle id </span>┃<span style=\"color: #008080; text-decoration-color: #008080; font-weight: bold\"> brand </span>┃<span style=\"color: #008080; text-decoration-color: #008080; font-weight: bold\"> model </span>┃<span style=\"color: #008080; text-decoration-color: #008080; font-weight: bold\"> year </span>┃<span style=\"color: #008080; text-decoration-color: #008080; font-weight: bold\"> color     </span>┃<span style=\"color: #008080; text-decoration-color: #008080; font-weight: bold\"> cost  </span>┃\n",
       "┡━━━━━━━━━━━━╇━━━━━━━╇━━━━━━━╇━━━━━━╇━━━━━━━━━━━╇━━━━━━━┩\n",
       "│<span style=\"color: #800080; text-decoration-color: #800080\"> AUDI213187 </span>│ audi  │ r8    │ 2023 │ baby blue │ 25000 │\n",
       "└────────────┴───────┴───────┴──────┴───────────┴───────┘\n",
       "</pre>\n"
      ],
      "text/plain": [
       "┏━━━━━━━━━━━━┳━━━━━━━┳━━━━━━━┳━━━━━━┳━━━━━━━━━━━┳━━━━━━━┓\n",
       "┃\u001b[1;36m \u001b[0m\u001b[1;36mvehicle id\u001b[0m\u001b[1;36m \u001b[0m┃\u001b[1;36m \u001b[0m\u001b[1;36mbrand\u001b[0m\u001b[1;36m \u001b[0m┃\u001b[1;36m \u001b[0m\u001b[1;36mmodel\u001b[0m\u001b[1;36m \u001b[0m┃\u001b[1;36m \u001b[0m\u001b[1;36myear\u001b[0m\u001b[1;36m \u001b[0m┃\u001b[1;36m \u001b[0m\u001b[1;36mcolor    \u001b[0m\u001b[1;36m \u001b[0m┃\u001b[1;36m \u001b[0m\u001b[1;36mcost \u001b[0m\u001b[1;36m \u001b[0m┃\n",
       "┡━━━━━━━━━━━━╇━━━━━━━╇━━━━━━━╇━━━━━━╇━━━━━━━━━━━╇━━━━━━━┩\n",
       "│\u001b[35m \u001b[0m\u001b[35mAUDI213187\u001b[0m\u001b[35m \u001b[0m│ audi  │ r8    │ 2023 │ baby blue │ 25000 │\n",
       "└────────────┴───────┴───────┴──────┴───────────┴───────┘\n"
      ]
     },
     "metadata": {},
     "output_type": "display_data"
    }
   ],
   "source": [
    "\n",
    "\n",
    "class Vehicle:\n",
    "    def __init__(self, brand, model, year, color, cost):\n",
    "        self.brand = brand\n",
    "        self.model = model\n",
    "        self.year = year\n",
    "        self.color = color\n",
    "        self.cost = cost\n",
    "        self.vcl_id = self.generate_vcl_id()\n",
    "\n",
    "\n",
    "    # generate an id for vehicle\n",
    "    def generate_vcl_id(self):\n",
    "        vcl = self.brand + str(random.randint(000000, 999999))\n",
    "\n",
    "        return vcl.upper()\n",
    "\n",
    "    \n",
    "    # vehicle table\n",
    "    def generate_table(self):\n",
    "        dbs = Table()\n",
    "        console = Console()\n",
    "\n",
    "        # add column names\n",
    "        dbs.add_column(\"vehicle id\", header_style=\"cyan\", style=\"magenta\")\n",
    "        dbs.add_column(\"brand\", header_style=\"cyan\")\n",
    "        dbs.add_column(\"model\", header_style=\"cyan\")\n",
    "        dbs.add_column(\"year\", header_style=\"cyan\")\n",
    "        dbs.add_column(\"color\", header_style=\"cyan\")\n",
    "        dbs.add_column(\"cost\", header_style=\"cyan\")\n",
    "\n",
    "        # add rows\n",
    "        dbs.add_row(str(self.vcl_id), str(self.brand), str(self.model), str(self.year), str(self.color), str(self.cost))\n",
    "        \n",
    "        return dbs\n",
    "\n",
    "\n",
    "if __name__ == \"__main__\":\n",
    "    print(v2.generate_table())"
   ]
  },
  {
   "cell_type": "code",
   "execution_count": 102,
   "id": "da1ea4cd-4af9-4fa9-8a82-8d43cd98248e",
   "metadata": {},
   "outputs": [],
   "source": [
    "v1 = Vehicle(\"bmw\", \"3 series\", 2016, \"red\", 17000)\n",
    "v2 = Vehicle(\"audi\", \"r8\", 2023, \"baby blue\", 25000)"
   ]
  },
  {
   "cell_type": "code",
   "execution_count": 106,
   "id": "30c4599e-93c7-46de-b7b9-be75ea74eb2f",
   "metadata": {},
   "outputs": [
    {
     "data": {
      "text/html": [
       "<pre style=\"white-space:pre;overflow-x:auto;line-height:normal;font-family:Menlo,'DejaVu Sans Mono',consolas,'Courier New',monospace\">\n",
       "</pre>\n"
      ],
      "text/plain": [
       "\n"
      ]
     },
     "metadata": {},
     "output_type": "display_data"
    }
   ],
   "source": [
    "\"\"\"\n",
    "JSON format\n",
    "print(\"vehicle 1\\n\", json.dumps(v1.__dict__, indent=2), \"\\n\")\n",
    "print(\"vehicle 2\\n\", json.dumps(v2.__dict__, indent=2), \"\\n\")\n",
    "\"\"\"\n",
    "print()"
   ]
  },
  {
   "cell_type": "code",
   "execution_count": null,
   "id": "ff364ee9-7886-4da6-aebb-38a3e2c274c2",
   "metadata": {},
   "outputs": [],
   "source": [
    "def add_vcl():\n",
    "    "
   ]
  }
 ],
 "metadata": {
  "kernelspec": {
   "display_name": "Python 3 (ipykernel)",
   "language": "python",
   "name": "python3"
  },
  "language_info": {
   "codemirror_mode": {
    "name": "ipython",
    "version": 3
   },
   "file_extension": ".py",
   "mimetype": "text/x-python",
   "name": "python",
   "nbconvert_exporter": "python",
   "pygments_lexer": "ipython3",
   "version": "3.11.5"
  }
 },
 "nbformat": 4,
 "nbformat_minor": 5
}
